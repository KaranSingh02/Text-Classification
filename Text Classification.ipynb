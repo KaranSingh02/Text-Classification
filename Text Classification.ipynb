{
 "cells": [
  {
   "cell_type": "code",
   "execution_count": 1,
   "metadata": {},
   "outputs": [
    {
     "name": "stderr",
     "output_type": "stream",
     "text": [
      "C:\\Users\\karan\\Anaconda3\\lib\\site-packages\\h5py\\__init__.py:72: UserWarning: h5py is running against HDF5 1.10.2 when it was built against 1.10.3, this may cause problems\n",
      "  '{0}.{1}.{2}'.format(*version.hdf5_built_version_tuple)\n"
     ]
    },
    {
     "name": "stdout",
     "output_type": "stream",
     "text": [
      "1.10.0\n"
     ]
    }
   ],
   "source": [
    "from __future__ import absolute_import, division, print_function, unicode_literals\n",
    "\n",
    "import tensorflow as tf\n",
    "from tensorflow import keras\n",
    "\n",
    "import numpy as np\n",
    "\n",
    "print(tf.__version__)"
   ]
  },
  {
   "cell_type": "code",
   "execution_count": 2,
   "metadata": {},
   "outputs": [
    {
     "name": "stdout",
     "output_type": "stream",
     "text": [
      "Downloading data from https://storage.googleapis.com/tensorflow/tf-keras-datasets/imdb.npz\n",
      "17465344/17464789 [==============================] - 19s 1us/step\n"
     ]
    }
   ],
   "source": [
    "imdb = keras.datasets.imdb\n",
    "\n",
    "(train_data, train_labels), (test_data, test_labels) = imdb.load_data(num_words=10000)"
   ]
  },
  {
   "cell_type": "code",
   "execution_count": 3,
   "metadata": {},
   "outputs": [
    {
     "name": "stdout",
     "output_type": "stream",
     "text": [
      "Training entries: 25000, labels: 25000\n"
     ]
    }
   ],
   "source": [
    "print(\"Training entries: {}, labels: {}\".format(len(train_data), len(train_labels)))"
   ]
  },
  {
   "cell_type": "code",
   "execution_count": 4,
   "metadata": {},
   "outputs": [
    {
     "name": "stdout",
     "output_type": "stream",
     "text": [
      "[1, 14, 22, 16, 43, 530, 973, 1622, 1385, 65, 458, 4468, 66, 3941, 4, 173, 36, 256, 5, 25, 100, 43, 838, 112, 50, 670, 2, 9, 35, 480, 284, 5, 150, 4, 172, 112, 167, 2, 336, 385, 39, 4, 172, 4536, 1111, 17, 546, 38, 13, 447, 4, 192, 50, 16, 6, 147, 2025, 19, 14, 22, 4, 1920, 4613, 469, 4, 22, 71, 87, 12, 16, 43, 530, 38, 76, 15, 13, 1247, 4, 22, 17, 515, 17, 12, 16, 626, 18, 2, 5, 62, 386, 12, 8, 316, 8, 106, 5, 4, 2223, 5244, 16, 480, 66, 3785, 33, 4, 130, 12, 16, 38, 619, 5, 25, 124, 51, 36, 135, 48, 25, 1415, 33, 6, 22, 12, 215, 28, 77, 52, 5, 14, 407, 16, 82, 2, 8, 4, 107, 117, 5952, 15, 256, 4, 2, 7, 3766, 5, 723, 36, 71, 43, 530, 476, 26, 400, 317, 46, 7, 4, 2, 1029, 13, 104, 88, 4, 381, 15, 297, 98, 32, 2071, 56, 26, 141, 6, 194, 7486, 18, 4, 226, 22, 21, 134, 476, 26, 480, 5, 144, 30, 5535, 18, 51, 36, 28, 224, 92, 25, 104, 4, 226, 65, 16, 38, 1334, 88, 12, 16, 283, 5, 16, 4472, 113, 103, 32, 15, 16, 5345, 19, 178, 32]\n"
     ]
    }
   ],
   "source": [
    "print(train_data[0])"
   ]
  },
  {
   "cell_type": "code",
   "execution_count": 5,
   "metadata": {},
   "outputs": [
    {
     "data": {
      "text/plain": [
       "(218, 189)"
      ]
     },
     "execution_count": 5,
     "metadata": {},
     "output_type": "execute_result"
    }
   ],
   "source": [
    "len(train_data[0]), len(train_data[1])"
   ]
  },
  {
   "cell_type": "code",
   "execution_count": 6,
   "metadata": {},
   "outputs": [
    {
     "name": "stdout",
     "output_type": "stream",
     "text": [
      "Downloading data from https://storage.googleapis.com/tensorflow/tf-keras-datasets/imdb_word_index.json\n",
      "1646592/1641221 [==============================] - 2s 1us/step\n"
     ]
    }
   ],
   "source": [
    "# A dictionary mapping words to an integer index\n",
    "word_index = imdb.get_word_index()\n",
    "\n",
    "# The first indices are reserved\n",
    "word_index = {k:(v+3) for k,v in word_index.items()}\n",
    "word_index[\"<PAD>\"] = 0\n",
    "word_index[\"<START>\"] = 1\n",
    "word_index[\"<UNK>\"] = 2  # unknown\n",
    "word_index[\"<UNUSED>\"] = 3\n",
    "\n",
    "reverse_word_index = dict([(value, key) for (key, value) in word_index.items()])\n",
    "\n",
    "def decode_review(text):\n",
    "    return ' '.join([reverse_word_index.get(i, '?') for i in text])"
   ]
  },
  {
   "cell_type": "code",
   "execution_count": 7,
   "metadata": {},
   "outputs": [
    {
     "data": {
      "text/plain": [
       "\"<START> this film was just brilliant casting location scenery story direction everyone's really suited the part they played and you could just imagine being there robert <UNK> is an amazing actor and now the same being director <UNK> father came from the same scottish island as myself so i loved the fact there was a real connection with this film the witty remarks throughout the film were great it was just brilliant so much that i bought the film as soon as it was released for <UNK> and would recommend it to everyone to watch and the fly fishing was amazing really cried at the end it was so sad and you know what they say if you cry at a film it must have been good and this definitely was also <UNK> to the two little boy's that played the <UNK> of norman and paul they were just brilliant children are often left out of the <UNK> list i think because the stars that play them all grown up are such a big profile for the whole film but these children are amazing and should be praised for what they have done don't you think the whole story was so lovely because it was true and was someone's life after all that was shared with us all\""
      ]
     },
     "execution_count": 7,
     "metadata": {},
     "output_type": "execute_result"
    }
   ],
   "source": [
    "decode_review(train_data[0])"
   ]
  },
  {
   "cell_type": "markdown",
   "metadata": {},
   "source": [
    "###Prepare the data\n",
    "The reviews—the arrays of integers—must be converted to tensors before fed into the neural network. This conversion can be done a couple of ways:\n",
    "\n",
    "Convert the arrays into vectors of 0s and 1s indicating word occurrence, similar to a one-hot encoding. For example, the sequence [3, 5] would become a 10,000-dimensional vector that is all zeros except for indices 3 and 5, which are ones. Then, make this the first layer in our network—a Dense layer—that can handle floating point vector data. This approach is memory intensive, though, requiring a num_words * num_reviews size matrix.\n",
    "\n",
    "Alternatively, we can pad the arrays so they all have the same length, then create an integer tensor of shape max_length * num_reviews. We can use an embedding layer capable of handling this shape as the first layer in our network.\n",
    "\n",
    "In this tutorial, we will use the second approach.\n",
    "\n",
    "Since the movie reviews must be the same length, we will use the pad_sequences function to standardize the lengths:"
   ]
  },
  {
   "cell_type": "code",
   "execution_count": 10,
   "metadata": {},
   "outputs": [],
   "source": [
    "train_data= keras.preprocessing.sequence.pad_sequences(train_data,\n",
    "                                                     value = word_index[\"<PAD>\"],\n",
    "                                                     padding = 'post',\n",
    "                                                     maxlen = 256)\n",
    "test_data= keras.preprocessing.sequence.pad_sequences(test_data,\n",
    "                                                     value = word_index[\"<PAD>\"],\n",
    "                                                     padding = 'post',\n",
    "                                                     maxlen = 256)"
   ]
  },
  {
   "cell_type": "code",
   "execution_count": 11,
   "metadata": {},
   "outputs": [
    {
     "data": {
      "text/plain": [
       "(256, 256)"
      ]
     },
     "execution_count": 11,
     "metadata": {},
     "output_type": "execute_result"
    }
   ],
   "source": [
    "len(train_data[0]), len(train_data[1])"
   ]
  },
  {
   "cell_type": "code",
   "execution_count": 12,
   "metadata": {},
   "outputs": [
    {
     "name": "stdout",
     "output_type": "stream",
     "text": [
      "[   1   14   22   16   43  530  973 1622 1385   65  458 4468   66 3941\n",
      "    4  173   36  256    5   25  100   43  838  112   50  670    2    9\n",
      "   35  480  284    5  150    4  172  112  167    2  336  385   39    4\n",
      "  172 4536 1111   17  546   38   13  447    4  192   50   16    6  147\n",
      " 2025   19   14   22    4 1920 4613  469    4   22   71   87   12   16\n",
      "   43  530   38   76   15   13 1247    4   22   17  515   17   12   16\n",
      "  626   18    2    5   62  386   12    8  316    8  106    5    4 2223\n",
      " 5244   16  480   66 3785   33    4  130   12   16   38  619    5   25\n",
      "  124   51   36  135   48   25 1415   33    6   22   12  215   28   77\n",
      "   52    5   14  407   16   82    2    8    4  107  117 5952   15  256\n",
      "    4    2    7 3766    5  723   36   71   43  530  476   26  400  317\n",
      "   46    7    4    2 1029   13  104   88    4  381   15  297   98   32\n",
      " 2071   56   26  141    6  194 7486   18    4  226   22   21  134  476\n",
      "   26  480    5  144   30 5535   18   51   36   28  224   92   25  104\n",
      "    4  226   65   16   38 1334   88   12   16  283    5   16 4472  113\n",
      "  103   32   15   16 5345   19  178   32    0    0    0    0    0    0\n",
      "    0    0    0    0    0    0    0    0    0    0    0    0    0    0\n",
      "    0    0    0    0    0    0    0    0    0    0    0    0    0    0\n",
      "    0    0    0    0]\n"
     ]
    }
   ],
   "source": [
    "print(train_data[0])"
   ]
  },
  {
   "cell_type": "code",
   "execution_count": 16,
   "metadata": {},
   "outputs": [
    {
     "name": "stdout",
     "output_type": "stream",
     "text": [
      "_________________________________________________________________\n",
      "Layer (type)                 Output Shape              Param #   \n",
      "=================================================================\n",
      "embedding_1 (Embedding)      (None, None, 16)          160000    \n",
      "_________________________________________________________________\n",
      "global_average_pooling1d_1 ( (None, 16)                0         \n",
      "_________________________________________________________________\n",
      "dense_2 (Dense)              (None, 16)                272       \n",
      "_________________________________________________________________\n",
      "dense_3 (Dense)              (None, 1)                 17        \n",
      "=================================================================\n",
      "Total params: 160,289\n",
      "Trainable params: 160,289\n",
      "Non-trainable params: 0\n",
      "_________________________________________________________________\n"
     ]
    }
   ],
   "source": [
    "vocab_size = 10000\n",
    "\n",
    "model = keras.Sequential()\n",
    "model.add(keras.layers.Embedding(vocab_size,16))\n",
    "model.add(keras.layers.GlobalAveragePooling1D())\n",
    "model.add(keras.layers.Dense(16, activation = tf.nn.relu))\n",
    "model.add(keras.layers.Dense(1, activation = tf.nn.sigmoid))\n",
    "\n",
    "model.summary()"
   ]
  },
  {
   "cell_type": "code",
   "execution_count": 17,
   "metadata": {},
   "outputs": [],
   "source": [
    "model.compile(optimizer='adam',\n",
    "             loss = 'binary_crossentropy',\n",
    "             metrics = ['acc'])"
   ]
  },
  {
   "cell_type": "code",
   "execution_count": 18,
   "metadata": {},
   "outputs": [],
   "source": [
    "x_val = train_data[:10000]\n",
    "partial_x_train = train_data[10000:]\n",
    "\n",
    "y_val = train_labels[:10000]\n",
    "partial_y_train = train_labels[10000:]"
   ]
  },
  {
   "cell_type": "code",
   "execution_count": 22,
   "metadata": {},
   "outputs": [
    {
     "name": "stdout",
     "output_type": "stream",
     "text": [
      "Train on 15000 samples, validate on 10000 samples\n",
      "Epoch 1/50\n",
      "15000/15000 [==============================] - 1s 78us/step - loss: 0.2189 - acc: 0.9221 - val_loss: 0.2982 - val_acc: 0.8818\n",
      "Epoch 2/50\n",
      "15000/15000 [==============================] - 1s 80us/step - loss: 0.2134 - acc: 0.9239 - val_loss: 0.2961 - val_acc: 0.8834\n",
      "Epoch 3/50\n",
      "15000/15000 [==============================] - 1s 76us/step - loss: 0.2084 - acc: 0.9251 - val_loss: 0.2947 - val_acc: 0.8833\n",
      "Epoch 4/50\n",
      "15000/15000 [==============================] - 1s 71us/step - loss: 0.2036 - acc: 0.9274 - val_loss: 0.2933 - val_acc: 0.8826\n",
      "Epoch 5/50\n",
      "15000/15000 [==============================] - 1s 71us/step - loss: 0.1994 - acc: 0.9289 - val_loss: 0.2917 - val_acc: 0.8837\n",
      "Epoch 6/50\n",
      "15000/15000 [==============================] - 1s 97us/step - loss: 0.1945 - acc: 0.9311 - val_loss: 0.2911 - val_acc: 0.8841\n",
      "Epoch 7/50\n",
      "15000/15000 [==============================] - 1s 95us/step - loss: 0.1904 - acc: 0.9329 - val_loss: 0.2900 - val_acc: 0.8840\n",
      "Epoch 8/50\n",
      "15000/15000 [==============================] - 1s 86us/step - loss: 0.1859 - acc: 0.9345 - val_loss: 0.2891 - val_acc: 0.8844\n",
      "Epoch 9/50\n",
      "15000/15000 [==============================] - 1s 79us/step - loss: 0.1820 - acc: 0.9360 - val_loss: 0.2883 - val_acc: 0.8837\n",
      "Epoch 10/50\n",
      "15000/15000 [==============================] - 1s 73us/step - loss: 0.1781 - acc: 0.9380 - val_loss: 0.2878 - val_acc: 0.8840\n",
      "Epoch 11/50\n",
      "15000/15000 [==============================] - 1s 74us/step - loss: 0.1741 - acc: 0.9405 - val_loss: 0.2876 - val_acc: 0.8838\n",
      "Epoch 12/50\n",
      "15000/15000 [==============================] - 1s 77us/step - loss: 0.1704 - acc: 0.9429 - val_loss: 0.2872 - val_acc: 0.8840\n",
      "Epoch 13/50\n",
      "15000/15000 [==============================] - 1s 77us/step - loss: 0.1669 - acc: 0.9430 - val_loss: 0.2869 - val_acc: 0.8846\n",
      "Epoch 14/50\n",
      "15000/15000 [==============================] - 1s 77us/step - loss: 0.1635 - acc: 0.9453 - val_loss: 0.2874 - val_acc: 0.8842\n",
      "Epoch 15/50\n",
      "15000/15000 [==============================] - 1s 98us/step - loss: 0.1602 - acc: 0.9467 - val_loss: 0.2873 - val_acc: 0.8849\n",
      "Epoch 16/50\n",
      "15000/15000 [==============================] - 1s 94us/step - loss: 0.1575 - acc: 0.9476 - val_loss: 0.2872 - val_acc: 0.8855\n",
      "Epoch 17/50\n",
      "15000/15000 [==============================] - 1s 76us/step - loss: 0.1539 - acc: 0.9483 - val_loss: 0.2888 - val_acc: 0.8849\n",
      "Epoch 18/50\n",
      "15000/15000 [==============================] - 1s 82us/step - loss: 0.1511 - acc: 0.9509 - val_loss: 0.2886 - val_acc: 0.8852\n",
      "Epoch 19/50\n",
      "15000/15000 [==============================] - 1s 99us/step - loss: 0.1473 - acc: 0.9523 - val_loss: 0.2882 - val_acc: 0.8846\n",
      "Epoch 20/50\n",
      "15000/15000 [==============================] - 2s 114us/step - loss: 0.1446 - acc: 0.9534 - val_loss: 0.2885 - val_acc: 0.8856\n",
      "Epoch 21/50\n",
      "15000/15000 [==============================] - 2s 112us/step - loss: 0.1422 - acc: 0.9548 - val_loss: 0.2891 - val_acc: 0.8859\n",
      "Epoch 22/50\n",
      "15000/15000 [==============================] - 1s 98us/step - loss: 0.1386 - acc: 0.9554 - val_loss: 0.2899 - val_acc: 0.8862\n",
      "Epoch 23/50\n",
      "15000/15000 [==============================] - 1s 92us/step - loss: 0.1359 - acc: 0.9568 - val_loss: 0.2909 - val_acc: 0.8868\n",
      "Epoch 24/50\n",
      "15000/15000 [==============================] - 1s 96us/step - loss: 0.1338 - acc: 0.9575 - val_loss: 0.2917 - val_acc: 0.8869\n",
      "Epoch 25/50\n",
      "15000/15000 [==============================] - 1s 90us/step - loss: 0.1306 - acc: 0.9595 - val_loss: 0.2924 - val_acc: 0.8866\n",
      "Epoch 26/50\n",
      "15000/15000 [==============================] - 2s 109us/step - loss: 0.1282 - acc: 0.9601 - val_loss: 0.2932 - val_acc: 0.8865\n",
      "Epoch 27/50\n",
      "15000/15000 [==============================] - 2s 101us/step - loss: 0.1259 - acc: 0.9614 - val_loss: 0.2943 - val_acc: 0.8859\n",
      "Epoch 28/50\n",
      "15000/15000 [==============================] - 1s 95us/step - loss: 0.1234 - acc: 0.9627 - val_loss: 0.2951 - val_acc: 0.8871\n",
      "Epoch 29/50\n",
      "15000/15000 [==============================] - 1s 90us/step - loss: 0.1211 - acc: 0.9629 - val_loss: 0.2971 - val_acc: 0.8862\n",
      "Epoch 30/50\n",
      "15000/15000 [==============================] - 1s 88us/step - loss: 0.1185 - acc: 0.9637 - val_loss: 0.2974 - val_acc: 0.8872\n",
      "Epoch 31/50\n",
      "15000/15000 [==============================] - 1s 89us/step - loss: 0.1160 - acc: 0.9649 - val_loss: 0.2983 - val_acc: 0.8870\n",
      "Epoch 32/50\n",
      "15000/15000 [==============================] - 1s 90us/step - loss: 0.1138 - acc: 0.9661 - val_loss: 0.3006 - val_acc: 0.8860\n",
      "Epoch 33/50\n",
      "15000/15000 [==============================] - 1s 90us/step - loss: 0.1117 - acc: 0.9667 - val_loss: 0.3010 - val_acc: 0.8861\n",
      "Epoch 34/50\n",
      "15000/15000 [==============================] - 2s 100us/step - loss: 0.1094 - acc: 0.9677 - val_loss: 0.3036 - val_acc: 0.8846\n",
      "Epoch 35/50\n",
      "15000/15000 [==============================] - 2s 108us/step - loss: 0.1076 - acc: 0.9687 - val_loss: 0.3044 - val_acc: 0.8863\n",
      "Epoch 36/50\n",
      "15000/15000 [==============================] - 1s 92us/step - loss: 0.1055 - acc: 0.9687 - val_loss: 0.3062 - val_acc: 0.8855\n",
      "Epoch 37/50\n",
      "15000/15000 [==============================] - 1s 95us/step - loss: 0.1032 - acc: 0.9699 - val_loss: 0.3070 - val_acc: 0.8858\n",
      "Epoch 38/50\n",
      "15000/15000 [==============================] - 1s 95us/step - loss: 0.1013 - acc: 0.9701 - val_loss: 0.3085 - val_acc: 0.8845\n",
      "Epoch 39/50\n",
      "15000/15000 [==============================] - 1s 95us/step - loss: 0.0993 - acc: 0.9713 - val_loss: 0.3102 - val_acc: 0.8853\n",
      "Epoch 40/50\n",
      "15000/15000 [==============================] - 1s 90us/step - loss: 0.0975 - acc: 0.9718 - val_loss: 0.3127 - val_acc: 0.8839\n",
      "Epoch 41/50\n",
      "15000/15000 [==============================] - 1s 92us/step - loss: 0.0956 - acc: 0.9732 - val_loss: 0.3139 - val_acc: 0.8833\n",
      "Epoch 42/50\n",
      "15000/15000 [==============================] - 1s 92us/step - loss: 0.0938 - acc: 0.9739 - val_loss: 0.3155 - val_acc: 0.8836\n",
      "Epoch 43/50\n",
      "15000/15000 [==============================] - 1s 92us/step - loss: 0.0918 - acc: 0.9739 - val_loss: 0.3171 - val_acc: 0.8829\n",
      "Epoch 44/50\n",
      "15000/15000 [==============================] - 1s 90us/step - loss: 0.0900 - acc: 0.9757 - val_loss: 0.3192 - val_acc: 0.8828\n",
      "Epoch 45/50\n",
      "15000/15000 [==============================] - 1s 93us/step - loss: 0.0882 - acc: 0.9761 - val_loss: 0.3219 - val_acc: 0.8829\n",
      "Epoch 46/50\n",
      "15000/15000 [==============================] - 1s 94us/step - loss: 0.0871 - acc: 0.9763 - val_loss: 0.3230 - val_acc: 0.8821\n",
      "Epoch 47/50\n",
      "15000/15000 [==============================] - 1s 96us/step - loss: 0.0849 - acc: 0.9776 - val_loss: 0.3253 - val_acc: 0.8829\n",
      "Epoch 48/50\n",
      "15000/15000 [==============================] - 2s 115us/step - loss: 0.0832 - acc: 0.9784 - val_loss: 0.3272 - val_acc: 0.8817\n",
      "Epoch 49/50\n",
      "15000/15000 [==============================] - 1s 98us/step - loss: 0.0816 - acc: 0.9779 - val_loss: 0.3297 - val_acc: 0.8816\n",
      "Epoch 50/50\n",
      "15000/15000 [==============================] - 1s 96us/step - loss: 0.0803 - acc: 0.9793 - val_loss: 0.3317 - val_acc: 0.8814\n"
     ]
    }
   ],
   "source": [
    "history = model.fit(partial_x_train,partial_y_train,\n",
    "                   epochs = 40,\n",
    "                   batch_size = 512,\n",
    "                   validation_data = (x_val,y_val),\n",
    "                   verbose = 1)"
   ]
  },
  {
   "cell_type": "code",
   "execution_count": 23,
   "metadata": {},
   "outputs": [
    {
     "name": "stdout",
     "output_type": "stream",
     "text": [
      "25000/25000 [==============================] - 1s 35us/step\n",
      "[0.351892657790184, 0.87132]\n"
     ]
    }
   ],
   "source": [
    "results = model.evaluate(test_data, test_labels)\n",
    "\n",
    "print(results)"
   ]
  },
  {
   "cell_type": "code",
   "execution_count": null,
   "metadata": {},
   "outputs": [],
   "source": []
  }
 ],
 "metadata": {
  "kernelspec": {
   "display_name": "Python 3",
   "language": "python",
   "name": "python3"
  },
  "language_info": {
   "codemirror_mode": {
    "name": "ipython",
    "version": 3
   },
   "file_extension": ".py",
   "mimetype": "text/x-python",
   "name": "python",
   "nbconvert_exporter": "python",
   "pygments_lexer": "ipython3",
   "version": "3.6.7"
  }
 },
 "nbformat": 4,
 "nbformat_minor": 2
}
